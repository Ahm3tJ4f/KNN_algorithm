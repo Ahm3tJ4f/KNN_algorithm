{
 "cells": [
  {
   "cell_type": "code",
   "execution_count": null,
   "metadata": {},
   "outputs": [],
   "source": [
    "import pandas as pd\n",
    "import matplotlib.pyplot as plt\n",
    "import numpy as np\n",
    "\n",
    "from scipy.stats import mode\n",
    "\n",
    "from sklearn.neighbors import KNeighborsClassifier\n",
    "from sklearn.model_selection import train_test_split\n",
    "from sklearn.metrics import accuracy_score\n",
    "from sklearn.neighbors import KNeighborsClassifier"
   ]
  },
  {
   "cell_type": "code",
   "execution_count": null,
   "metadata": {},
   "outputs": [],
   "source": [
    "\n",
    "df_cleveland = pd.read_csv(\"https://archive.ics.uci.edu/ml/machine-learning-databases/heart-disease/processed.cleveland.data\")\n",
    "df_cleveland.rename(columns = {'63.0':'age', '1.0':'sex', '1.0.1':'cp', '145.0':'trestbps', '233.0':'chol', '150.0':'thalach', '6.0':'thal', '2.3':'oldpeak','0':'num' }, inplace = True)\n",
    "\n",
    "df_cleveland.drop(df_cleveland.columns[[5,6,8,10,11]], axis = 1, inplace = True)\n",
    "\n",
    "df_cleveland['num'] = df_cleveland['num'].map({0:'0', 1:'0',2:'1',3:'1'})\n",
    "df_cleveland = df_cleveland.dropna(subset=['num'])\n",
    "df_cleveland['num'] = df_cleveland['num'].astype(int)\n",
    "\n",
    "df_cleveland.drop(df_cleveland[df_cleveland['thal'] == '?'].index, inplace = True)\n",
    "df_cleveland['thal'] = df_cleveland['thal'].astype(float)\n",
    "\n",
    "x = df_cleveland.iloc[:, 0:3]\n",
    "y = df_cleveland.iloc[:,-1]\n",
    "X_train, X_test, y_train, y_test = train_test_split(x, y, train_size = 0.7)\n"
   ]
  },
  {
   "cell_type": "code",
   "execution_count": null,
   "metadata": {},
   "outputs": [],
   "source": [
    "\n",
    "def euc_dist(p1, p2):\n",
    "    return np.linalg.norm(p1-p2)"
   ]
  },
  {
   "cell_type": "code",
   "execution_count": null,
   "metadata": {},
   "outputs": [],
   "source": [
    "def knn_scratch(X_train, X_test, y_train, y_test, k):\n",
    "    y_hat = []\n",
    "    for test_p in X_test.to_numpy():\n",
    "        distances = []\n",
    "        for i in range(len(X_train)):\n",
    "            distances.append(euc_dist(X_train.to_numpy()[i], test_p))\n",
    "\n",
    "        distance_df = pd.DataFrame(data = distances, columns = ['distance'],index = X_train.index) \n",
    "        kNN_distances = distance_df.sort_values(by = ['distance'], axis = 0)[:k]\n",
    "        targets = y_train.loc[kNN_distances.index]\n",
    "        labeling = mode(targets).mode[0]           \n",
    "        y_hat.append(labeling) \n",
    "    return y_hat"
   ]
  },
  {
   "cell_type": "code",
   "execution_count": null,
   "metadata": {},
   "outputs": [],
   "source": [
    "\n",
    "\n",
    "external_k_results = []\n",
    "my_k_results = []\n",
    "for i in range(1,30):\n",
    "    y_hat_pred = knn_scratch(X_train, X_test, y_train, y_test, k = i)\n",
    "    my_k_results.append(accuracy_score(y_hat_pred, y_test))\n",
    "    \n",
    "    external_model = KNeighborsClassifier(n_neighbors=i)\n",
    "\n",
    "    external_model.fit(X_train,y_train)\n",
    "    external_model_pred = external_model.predict(X_test)\n",
    "    external_k_results.append(accuracy_score(external_model_pred, y_test))"
   ]
  },
  {
   "cell_type": "code",
   "execution_count": null,
   "metadata": {},
   "outputs": [],
   "source": [
    "\n",
    "plt.rcParams['figure.figsize'] = [20, 7]\n",
    "plt.plot(range(1,i+1), my_k_results, color = 'orange', marker = 'o')\n",
    "plt.plot(range(1,i+1), external_k_results, color = 'blue', marker = '*', linestyle='dashed')\n",
    "\n",
    "print('\\nMY MODEL: ')\n",
    "max_accuracy = np.amax(my_k_results)\n",
    "print('best accuracy: ' + str(max_accuracy))\n",
    "print('optimal k=' + str(my_k_results.index(max_accuracy)+1))\n",
    "\n",
    "print('\\nKNeighborsClassifier ')\n",
    "max_accuracy = np.amax(external_k_results)\n",
    "print('best accuracy: ' + str(max_accuracy))\n",
    "print('optimal k=' + str(external_k_results.index(max_accuracy)+1))"
   ]
  }
 ],
 "metadata": {
  "language_info": {
   "name": "python"
  },
  "orig_nbformat": 4
 },
 "nbformat": 4,
 "nbformat_minor": 2
}
